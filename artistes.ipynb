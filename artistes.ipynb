{
 "cells": [
  {
   "cell_type": "markdown",
   "metadata": {},
   "source": [
    "# Projet IC05 – Collecte et traitement des données des artistes issus des Top50"
   ]
  },
  {
   "cell_type": "markdown",
   "source": [
    "Ce script récupère les informations et fait des statistiques sur les artistes"
   ],
   "metadata": {
    "collapsed": false
   }
  },
  {
   "cell_type": "markdown",
   "metadata": {},
   "source": [
    "## Imports et tokens"
   ]
  },
  {
   "cell_type": "code",
   "execution_count": 11,
   "metadata": {},
   "outputs": [],
   "source": [
    "import requests\n",
    "import csv\n",
    "import pandas as pd\n",
    "from credentials import ClientSecretCO as client_id, ClientIDCO as client_secret # TODO -  reparer ce import  \n",
    "\n",
    "def get_acces_token(client_id, client_secret):\n",
    "    \"\"\"retourne un json (dict)\"\"\"\n",
    "    url = \"https://accounts.spotify.com/api/token\"\n",
    "    headers = {\n",
    "        \"Content-Type\": \"application/x-www-form-urlencoded\"\n",
    "    }\n",
    "    data = {\n",
    "        \"grant_type\": \"client_credentials\",\n",
    "        \"client_id\": f\"{client_id}\",\n",
    "        f\"client_secret\": f\"{client_secret}\"\n",
    "    }\n",
    "\n",
    "    response = requests.post(url, headers=headers, data=data)\n",
    "\n",
    "    return response.json()\n",
    "\n",
    "# recupérer un acces token\n",
    "AccessToken = get_acces_token(ClientIDCO, ClientSecretCO)\n",
    "# print(AccessToken['access_token'])\n"
   ]
  },
  {
   "cell_type": "markdown",
   "metadata": {},
   "source": [
    "## Collecte des données sur les artistes"
   ]
  },
  {
   "cell_type": "markdown",
   "metadata": {},
   "source": [
    "### Correspondance entre les artistes et les pays dans lesquels ils apparaissent"
   ]
  },
  {
   "cell_type": "code",
   "execution_count": 12,
   "metadata": {},
   "outputs": [],
   "source": [
    "# correspondance entre artists_id et country\n",
    "def extract_artist_country_mapping(src_file):\n",
    "    artist_country_mapping = {}\n",
    "    with open(src_file, 'r', encoding='utf-8') as csvfile:\n",
    "        reader = csv.reader(csvfile)\n",
    "        next(reader)  # ignorer l'en-tête\n",
    "        for row in reader:\n",
    "            artist_ids = row[2].strip('\"[]').replace(\" \", \"\").split(\",\")\n",
    "            country = row[-1]  # colonne \"country\"\n",
    "            for artist_id in artist_ids:\n",
    "                artist_country_mapping[artist_id] = country\n",
    "    return artist_country_mapping"
   ]
  },
  {
   "cell_type": "markdown",
   "metadata": {},
   "source": [
    "### Formatage des données JSON pour l'écriture dans un fichier CSV et écriture"
   ]
  },
  {
   "cell_type": "code",
   "execution_count": 15,
   "metadata": {},
   "outputs": [],
   "source": [
    "# ecriture des données json dans un csv\n",
    "def json_to_csv(json_data, output_filename, artists_countries):\n",
    "    # Préparer le fichier CSV\n",
    "    with open(output_filename, mode='a+', newline='', encoding='utf-8') as file:\n",
    "        writer = csv.DictWriter(file, fieldnames=[\"artists\", \"followers\", \"genres\", \"name\", \"popularity\", \"country\"])\n",
    "        if file.tell() == 0:  # ecrire l'en-tête uniquement si le fichier est vide\n",
    "            writer.writeheader()\n",
    "\n",
    "        # Traiter chaque artiste dans la liste\n",
    "        for artist in json_data[\"artists\"]:\n",
    "            # Extraire l'ID à partir de l'URL Spotify\n",
    "            full_url = artist.get(\"external_urls\", {}).get(\"spotify\", \"\")\n",
    "            artist_id = full_url.split(\"/\")[-1] if full_url else \"\"\n",
    "\n",
    "            # Préparer les informations pertinentes pour chaque artiste\n",
    "            row = {\n",
    "                \"artists\": artist_id,\n",
    "                \"followers\": artist.get(\"followers\", {}).get(\"total\", 0),\n",
    "                \"genres\": \", \".join(artist.get(\"genres\", [])),\n",
    "                \"name\": artist.get(\"name\", \"\"),\n",
    "                \"popularity\": artist.get(\"popularity\", 0),\n",
    "                \"country\": artists_countries[artist_id].pop()\n",
    "            }\n",
    "            writer.writerow(row)"
   ]
  },
  {
   "cell_type": "markdown",
   "metadata": {},
   "source": [
    "### Collecter les données des artistes (artists,followers,genres,name,popularity,country)"
   ]
  },
  {
   "cell_type": "code",
   "execution_count": 17,
   "metadata": {},
   "outputs": [],
   "source": [
    "# retrieve artists info (name, genres,popularity, followers)\n",
    "def get_artists_info(AccessToken, src_file, dst_file) :\n",
    "    artists_countries = {}\n",
    "    # dictionnaire qui garde pour quel pays on note tel ou tel artiste\n",
    "\n",
    "    artists_ids_string = \"\"\n",
    "    artists_ids_list = \"\"\n",
    "    result =[]\n",
    "\n",
    "    # lecture du fichier CSV et recup les artistes_id\n",
    "    with open(src_file, 'r', encoding='utf-8') as csvfile:\n",
    "        reader = csv.reader(csvfile)\n",
    "        first_row = next(reader)\n",
    "        for row in reader:\n",
    "            # print(row[2]) # col artistes\n",
    "            if \",\" in row[2] :\n",
    "                # print(row[2].strip('\"[]').replace(\" \", \"\"))\n",
    "                artist_id_str = row[2].strip('\"[]').replace(\" \", \"\") # string id1,id2,id3...etc\n",
    "                artists_ids_string += artist_id_str\n",
    "                \n",
    "                for artist_id in artist_id_str.split(\",\") :  \n",
    "                # pour ajouter dans le dictionnaire tout les artistes\n",
    "                    if artist_id not in artists_countries.keys():\n",
    "                        artists_countries[artist_id] = []\n",
    "                    artists_countries[artist_id].append(row[-1])\n",
    "            else :\n",
    "                # print(row[2][1:23])\n",
    "                artist_id_str = row[2][1:23]\n",
    "                artists_ids_string += artist_id_str\n",
    "                if artist_id_str not in artists_countries.keys():\n",
    "                    artists_countries[artist_id_str] = []\n",
    "                artists_countries[artist_id_str].append(row[-1])\n",
    "\n",
    "            artists_ids_string +=\",\"\n",
    "            \n",
    "    # print(artists_ids_string)\n",
    "    artists_ids_list = artists_ids_string.split(\",\")[:-1]\n",
    "\n",
    "    \n",
    "    for i in range(0, len(artists_ids_list), 50 ):\n",
    "        chunk = artists_ids_list[i:i + 50]  # 50 artistes\n",
    "        # print(','.join(chunk), \"\\n\")\n",
    "        response = requests.get(\n",
    "            url = \"https://api.spotify.com/v1/artists?ids=\" +','.join(chunk),\n",
    "            headers = {\n",
    "                \"Authorization\": 'Bearer ' + AccessToken['access_token']\n",
    "            }\n",
    "        )\n",
    "        # print(response.json())\n",
    "        # requête réussie\n",
    "        if response.status_code == 200:\n",
    "            json_to_csv(response.json(), dst_file, artists_countries)\n",
    "        # erreur requete\n",
    "        else:\n",
    "            print(f\"Erreur lors de la requête pour le lot {i // 50 + 1}: {response.status_code}\")\n",
    "\n",
    "    #return artists_ids_list, artists_ids_list\n",
    "get_artists_info(AccessToken, \"data/continent_features/Africa.csv\", \"data/artists/artists_africa.csv\")\n",
    "get_artists_info(AccessToken, \"data/continent_features/Asia.csv\", \"data/artists/artists_asia.csv\")\n",
    "get_artists_info(AccessToken, \"data/continent_features/Central_America.csv\", \"data/artists/artists_central_america.csv\")\n",
    "get_artists_info(AccessToken, \"data/continent_features/South_America.csv\", \"data/artists/artists_south_america.csv\")\n",
    "get_artists_info(AccessToken, \"data/continent_features/North_America.csv\", \"./data/artists/artists_north_america.csv\")\n",
    "get_artists_info(AccessToken, \"data/continent_features/Europe.csv\", \"data/artists/artists_europe.csv\")\n",
    "get_artists_info(AccessToken, \"data/continent_features/Oceania.csv\", \"data/artists/artists_oceania.csv\")\n",
    "get_artists_info(AccessToken, \"data/top50_features_avec_USA.csv\", \"data/artists/artists.csv\")"
   ]
  },
  {
   "cell_type": "markdown",
   "metadata": {},
   "source": [
    "### Suppression des lignes en double dans les fichiers de donnéees des artistes"
   ]
  },
  {
   "cell_type": "code",
   "execution_count": 18,
   "metadata": {},
   "outputs": [],
   "source": [
    "def delete_duplicate(file) :\n",
    "    df = pd.read_csv(file)\n",
    "    df_sans_doublons = df.drop_duplicates()\n",
    "    df_sans_doublons.to_csv(file, index=False)\n",
    "\n",
    "# delete_duplicate(\"data/artists/test-usa.csv\")\n",
    "# delete_duplicate(\"data/artists/artists_europe.csv\")\n",
    "# delete_duplicate(\"data/artists/artists_oceania.csv\")\n",
    "# delete_duplicate(\"data/artists/artists_north_america.csv\")\n",
    "# delete_duplicate(\"data/artists/artists_south_america.csv\")\n",
    "# delete_duplicate(\"data/artists/artists_central_america.csv\")\n",
    "# delete_duplicate(\"data/artists/artists_asia.csv\")\n",
    "# delete_duplicate(\"data/artists/artists_africa.csv\")"
   ]
  },
  {
   "cell_type": "markdown",
   "metadata": {},
   "source": [
    "## Statistiques sur les artistes"
   ]
  },
  {
   "cell_type": "code",
   "execution_count": 18,
   "metadata": {},
   "outputs": [
    {
     "name": "stdout",
     "output_type": "stream",
     "text": [
      "Top 10 des artistes les plus fréquents avec les pays dans lesquels ils sont écoutés:\n",
      "Bruno Mars: {'United Kingdom': 4, 'Ukraine': 6, 'Switzerland': 9, 'Sweden': 4, 'Spain': 3, 'Slovakia': 4, 'Romania': 9, 'Poland': 6, 'Norway': 5, 'Netherlands': 6, 'Luxembourg': 5, 'Lithuania': 4, 'Latvia': 4, 'Italy': 14, 'Ireland': 8, 'Iceland': 8, 'Hungary': 6, 'Greece': 3, 'Germany': 9, 'France': 6, 'Finland': 5, 'Estonia': 10, 'Denmark': 4, 'Czech Republic': 4, 'Bulgaria': 7, 'Belgium': 6, 'Austria': 10, 'Andorra': 3, 'South Africa': 3, 'Morocco': 28, 'Mexico': 6, 'Canada': 6, 'United States': 16, 'Venezuela': 5, 'Peru': 6, 'Paraguay': 2, 'Ecuador': 6, 'Colombia': 5, 'Chile': 6, 'Brazil': 6, 'Bolivia': 4, 'Panama': 15, 'Nicaragua': 4, 'Honduras': 10, 'Guatemala': 5, 'El Salvador': 24, 'Dominican Republic': 2, 'Dominica': 5, 'Costa Rica': 4, 'Vietnam': 4, 'Turkey': 8, 'Thailand': 6, 'Taiwan': 9, 'Singapore': 13, 'Saudi Arabia': 4, 'Philippines': 12, 'Pakistan': 12, 'Malaysia': 11, 'Kazakhstan': 6, 'Japan': 2, 'Israel': 5, 'Indonesia': 4, 'India': 7, 'New Zealand': 7, 'Australia': 6}\n",
      "Feid: {'Spain': 12, 'Andorra': 2, 'Mexico': 8, 'Venezuela': 24, 'Uruguay': 6, 'Peru': 23, 'Paraguay': 12, 'Ecuador': 42, 'Colombia': 42, 'Chile': 10, 'Bolivia': 31, 'Argentina': 2, 'Panama': 16, 'Nicaragua': 16, 'Honduras': 31, 'Guatemala': 11, 'El Salvador': 33, 'Dominican Republic': 8, 'Dominica': 11, 'Costa Rica': 20}\n",
      "KAROL G: {'Switzerland': 2, 'Spain': 8, 'Netherlands': 3, 'Luxembourg': 2, 'Italy': 2, 'France': 4, 'Belgium': 2, 'Andorra': 8, 'Mexico': 4, 'Venezuela': 10, 'Uruguay': 5, 'Peru': 15, 'Paraguay': 8, 'Ecuador': 10, 'Colombia': 20, 'Chile': 5, 'Bolivia': 16, 'Argentina': 4, 'Panama': 12, 'Nicaragua': 4, 'Honduras': 8, 'Guatemala': 8, 'El Salvador': 50, 'Dominican Republic': 20, 'Dominica': 17, 'Costa Rica': 21}\n",
      "Billie Eilish: {'United Kingdom': 6, 'Ukraine': 8, 'Switzerland': 4, 'Sweden': 8, 'Slovakia': 7, 'Romania': 4, 'Poland': 2, 'Norway': 5, 'Netherlands': 5, 'Luxembourg': 5, 'Lithuania': 12, 'Latvia': 8, 'Ireland': 6, 'Iceland': 6, 'Hungary': 3, 'Germany': 10, 'France': 2, 'Estonia': 17, 'Denmark': 4, 'Czech Republic': 2, 'Bulgaria': 4, 'Belgium': 6, 'Austria': 5, 'South Africa': 14, 'Egypt': 3, 'Canada': 12, 'United States': 7, 'Peru': 2, 'Panama': 4, 'Honduras': 2, 'Costa Rica': 2, 'Thailand': 5, 'Taiwan': 2, 'Singapore': 8, 'Saudi Arabia': 7, 'Philippines': 8, 'Malaysia': 12, 'Kazakhstan': 8, 'Israel': 4, 'Indonesia': 2, 'New Zealand': 9, 'Australia': 6}\n",
      "Sabrina Carpenter: {'United Kingdom': 14, 'Ukraine': 3, 'Switzerland': 3, 'Sweden': 5, 'Slovakia': 2, 'Poland': 2, 'Norway': 8, 'Netherlands': 6, 'Luxembourg': 10, 'Lithuania': 3, 'Latvia': 4, 'Ireland': 17, 'Iceland': 11, 'Hungary': 2, 'Germany': 2, 'France': 2, 'Estonia': 7, 'Denmark': 4, 'Bulgaria': 2, 'Belgium': 7, 'Austria': 2, 'Canada': 12, 'United States': 20, 'Taiwan': 5, 'Singapore': 22, 'Saudi Arabia': 5, 'Philippines': 10, 'Malaysia': 9, 'Israel': 4, 'New Zealand': 14, 'Australia': 10}\n",
      "Lady Gaga: {'United Kingdom': 2, 'Ukraine': 2, 'Switzerland': 2, 'Sweden': 2, 'Spain': 2, 'Slovakia': 2, 'Romania': 2, 'Poland': 2, 'Norway': 2, 'Netherlands': 2, 'Luxembourg': 2, 'Lithuania': 2, 'Latvia': 2, 'Italy': 2, 'Ireland': 2, 'Iceland': 2, 'Hungary': 2, 'Greece': 2, 'Germany': 2, 'France': 2, 'Finland': 2, 'Estonia': 2, 'Denmark': 2, 'Czech Republic': 2, 'Bulgaria': 2, 'Belgium': 2, 'Austria': 2, 'Andorra': 4, 'South Africa': 2, 'Morocco': 2, 'Mexico': 2, 'Canada': 2, 'United States': 2, 'Venezuela': 2, 'Peru': 2, 'Paraguay': 2, 'Ecuador': 2, 'Colombia': 2, 'Chile': 2, 'Brazil': 2, 'Bolivia': 2, 'Panama': 2, 'Nicaragua': 2, 'Honduras': 2, 'Guatemala': 2, 'El Salvador': 2, 'Dominican Republic': 2, 'Dominica': 2, 'Costa Rica': 2, 'Vietnam': 2, 'Thailand': 2, 'Taiwan': 2, 'Singapore': 2, 'Saudi Arabia': 2, 'Philippines': 2, 'Malaysia': 2, 'Kazakhstan': 2, 'Israel': 2, 'Indonesia': 2, 'India': 2, 'New Zealand': 2, 'Australia': 2}\n",
      "Myke Towers: {'Spain': 13, 'Andorra': 2, 'Venezuela': 2, 'Uruguay': 6, 'Peru': 6, 'Paraguay': 16, 'Ecuador': 9, 'Colombia': 3, 'Chile': 5, 'Bolivia': 6, 'Argentina': 8, 'Panama': 6, 'Nicaragua': 2, 'Honduras': 7, 'Guatemala': 2, 'El Salvador': 10, 'Dominican Republic': 5, 'Dominica': 6, 'Costa Rica': 8}\n",
      "Maluma: {'Spain': 2, 'Mexico': 5, 'Venezuela': 4, 'Uruguay': 2, 'Peru': 10, 'Paraguay': 5, 'Ecuador': 10, 'Colombia': 13, 'Chile': 2, 'Bolivia': 10, 'Panama': 8, 'Nicaragua': 6, 'Honduras': 4, 'Guatemala': 11, 'El Salvador': 12, 'Dominican Republic': 3, 'Dominica': 3, 'Costa Rica': 10}\n",
      "Aventura: {'Ecuador': 5, 'Panama': 2, 'Nicaragua': 42, 'Honduras': 12, 'Guatemala': 6, 'El Salvador': 23, 'Dominican Republic': 10, 'Dominica': 12, 'Costa Rica': 4}\n",
      "ROSÉ: {'United Kingdom': 2, 'Ukraine': 2, 'Switzerland': 2, 'Sweden': 2, 'Slovakia': 2, 'Romania': 2, 'Poland': 2, 'Norway': 2, 'Netherlands': 2, 'Luxembourg': 2, 'Lithuania': 2, 'Latvia': 2, 'Ireland': 2, 'Iceland': 2, 'Hungary': 2, 'Germany': 2, 'France': 2, 'Finland': 2, 'Estonia': 2, 'Denmark': 2, 'Czech Republic': 2, 'Bulgaria': 2, 'Belgium': 2, 'Austria': 2, 'Morocco': 2, 'Mexico': 2, 'Canada': 2, 'United States': 2, 'Venezuela': 2, 'Peru': 2, 'Ecuador': 2, 'Chile': 2, 'Brazil': 2, 'Bolivia': 2, 'Panama': 2, 'Nicaragua': 2, 'Honduras': 2, 'El Salvador': 2, 'Costa Rica': 2, 'Vietnam': 2, 'Turkey': 2, 'Thailand': 2, 'Taiwan': 2, 'Singapore': 2, 'Saudi Arabia': 2, 'Philippines': 2, 'Pakistan': 2, 'Malaysia': 2, 'Kazakhstan': 2, 'Japan': 2, 'Israel': 2, 'Indonesia': 2, 'India': 2, 'New Zealand': 2, 'Australia': 2}\n",
      "\n",
      "Top 10 des artistes peuplant le plus de Top50 différents:\n",
      "Bruno Mars: 65 pays\n",
      "Lady Gaga: 62 pays\n",
      "ROSÉ: 55 pays\n",
      "Billie Eilish: 42 pays\n",
      "Gigi Perez: 31 pays\n",
      "Sabrina Carpenter: 31 pays\n",
      "Jimin: 29 pays\n",
      "The Weeknd: 28 pays\n",
      "KAROL G: 26 pays\n",
      "Playboi Carti: 25 pays\n"
     ]
    }
   ],
   "source": [
    "from collections import Counter, defaultdict\n",
    "\n",
    "def statistiques_artistes(fichier=\"data/artists_info/apparitions_artistes.csv\"):\n",
    "    # stocker les informations\n",
    "    artist_country_count = defaultdict(Counter)\n",
    "    country_count = defaultdict(set)\n",
    "    \n",
    "    # lecture du fichier\n",
    "    with open(fichier, 'r', encoding='utf-8') as file:\n",
    "        next(file)  # ignorer premiere ligne\n",
    "        for line in file:\n",
    "            line = line.strip()\n",
    "            # cas particulier \"Tyler, The Creator\"\n",
    "            if line.startswith('\"Tyler, The Creator\"'):\n",
    "                artist = '\"Tyler, The Creator\"'\n",
    "                rest = line[len(artist):].strip(',')\n",
    "                genre, country = rest.split(',')\n",
    "            else:\n",
    "                parts = line.split(',')\n",
    "                artist, genre, country = parts\n",
    "            \n",
    "            # occurrences\n",
    "            artist_country_count[artist][country] += 1\n",
    "            country_count[artist].add(country)\n",
    "\n",
    "\n",
    "    # 10 artistes les plus frequent avec leurs pays\n",
    "    sorted_artists = sorted(\n",
    "        artist_country_count.items(),\n",
    "        key=lambda x: sum(x[1].values()), \n",
    "        reverse=True\n",
    "    )[:10]\n",
    "    top_10_artists = [\n",
    "        (artist, dict(country_counts))\n",
    "        for artist, country_counts in sorted_artists\n",
    "    ]\n",
    "\n",
    "    # 3 artistes avec le plus de pays differents\n",
    "    diverse_artists = sorted(\n",
    "        country_count.items(),\n",
    "        key=lambda x: len(x[1]),\n",
    "        reverse=True\n",
    "    )[:10]\n",
    "    top_3_diverse_artists = [\n",
    "        (artist, len(countries))\n",
    "        for artist, countries in diverse_artists\n",
    "    ]\n",
    "\n",
    "    return top_10_artists, top_3_diverse_artists\n",
    "\n",
    "top_10, top_3 = statistiques_artistes(\"data/artists_info/apparitions_artistes.csv\")\n",
    "\n",
    "print(\"Top 10 des artistes les plus fréquents avec les pays dans lesquels ils sont écoutés:\")\n",
    "for artist, countries in top_10:\n",
    "    print(f\"{artist}: {countries}\")\n",
    "\n",
    "print(\"\\nTop 10 des artistes peuplant le plus de Top50 différents:\")\n",
    "for artist, country_count in top_3:\n",
    "    print(f\"{artist}: {country_count} pays\")\n"
   ]
  }
 ],
 "metadata": {
  "kernelspec": {
   "display_name": "myenv",
   "language": "python",
   "name": "python3"
  },
  "language_info": {
   "codemirror_mode": {
    "name": "ipython",
    "version": 3
   },
   "file_extension": ".py",
   "mimetype": "text/x-python",
   "name": "python",
   "nbconvert_exporter": "python",
   "pygments_lexer": "ipython3",
   "version": "3.9.2"
  },
  "orig_nbformat": 4
 },
 "nbformat": 4,
 "nbformat_minor": 2
}
