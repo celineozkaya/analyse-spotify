{
 "cells": [
  {
   "cell_type": "markdown",
   "metadata": {},
   "source": [
    "# Projet IC05 – Analyse des Top50 Spotify\n",
    "## Collecte et traitement des données des artistes issus des Top50"
   ]
  },
  {
   "cell_type": "markdown",
   "metadata": {},
   "source": [
    "### Imports"
   ]
  },
  {
   "cell_type": "code",
   "execution_count": 2,
   "metadata": {},
   "outputs": [],
   "source": [
    "import requests\n",
    "import csv\n",
    "import pandas as pd\n",
    "from credentials import ClientIDCO, ClientSecretCO\n",
    "\n",
    "def get_acces_token(client_id, client_secret):\n",
    "    \"\"\"retourne un json (dict)\"\"\"\n",
    "    url = \"https://accounts.spotify.com/api/token\"\n",
    "    headers = {\n",
    "        \"Content-Type\": \"application/x-www-form-urlencoded\"\n",
    "    }\n",
    "    data = {\n",
    "        \"grant_type\": \"client_credentials\",\n",
    "        \"client_id\": f\"{client_id}\",\n",
    "        f\"client_secret\": f\"{client_secret}\"\n",
    "    }\n",
    "\n",
    "    response = requests.post(url, headers=headers, data=data)\n",
    "\n",
    "    return response.json()\n",
    "\n",
    "# recupérer un acces token\n",
    "AccessToken = get_acces_token(ClientIDCO, ClientSecretCO)\n",
    "# print(AccessToken['access_token'])\n",
    "\n",
    "\n",
    "\n"
   ]
  },
  {
   "cell_type": "markdown",
   "metadata": {},
   "source": [
    "### Collecte des données sur les artistes"
   ]
  },
  {
   "cell_type": "code",
   "execution_count": 3,
   "metadata": {},
   "outputs": [],
   "source": [
    "# get id list\n",
    "def json_to_csv(json_data, output_filename):\n",
    "    # Préparer le fichier CSV\n",
    "    with open(output_filename, mode='a+', newline='', encoding='utf-8') as file:\n",
    "        writer = csv.DictWriter(file, fieldnames=[\"artists\", \"followers\", \"genres\", \"name\", \"popularity\"])\n",
    "        writer.writeheader()\n",
    "\n",
    "        # Traiter chaque artiste dans la liste\n",
    "        for artist in json_data[\"artists\"]:\n",
    "            # Extraire l'ID à partir de l'URL Spotify\n",
    "            full_url = artist.get(\"external_urls\", {}).get(\"spotify\", \"\")\n",
    "            artist_id = full_url.split(\"/\")[-1] if full_url else \"\"\n",
    "\n",
    "            # Préparer les informations pertinentes pour chaque artiste\n",
    "            row = {\n",
    "                \"artists\": artist_id,\n",
    "                \"followers\": artist.get(\"followers\", {}).get(\"total\", 0),\n",
    "                \"genres\": \", \".join(artist.get(\"genres\", [])),\n",
    "                \"name\": artist.get(\"name\", \"\"),\n",
    "                \"popularity\": artist.get(\"popularity\", 0)\n",
    "            }\n",
    "            writer.writerow(row)\n"
   ]
  },
  {
   "cell_type": "code",
   "execution_count": 5,
   "metadata": {},
   "outputs": [],
   "source": [
    "\n",
    "# retrieve artists info (name, genres,popularity, followers)\n",
    "# faire les requetes par pays\n",
    "def get_artists_info(AccessToken, src_file, dst_file) :\n",
    "    \n",
    "\n",
    "    artists_ids_string = \"\"\n",
    "    artists_ids_list = \"\"\n",
    "    result =[]\n",
    "\n",
    "    # lecture du fichier CSV et recup les artistes_id\n",
    "    with open(src_file, 'r', encoding='utf-8') as csvfile:\n",
    "        reader = csv.reader(csvfile)\n",
    "        first_row = next(reader)\n",
    "        for row in reader:\n",
    "            # print(row[2]) # col artistes\n",
    "            if \",\" in row[2] :\n",
    "                # print(row[2].strip('\"[]').replace(\" \", \"\"))\n",
    "                artists_ids_string += row[2].strip('\"[]').replace(\" \", \"\")\n",
    "            else :\n",
    "                # print(row[2][1:23])\n",
    "                artists_ids_string += row[2][1:23]\n",
    "\n",
    "            artists_ids_string +=\",\"\n",
    "        \n",
    "               \n",
    "    # print(artists_ids_string)\n",
    "    artists_ids_list = artists_ids_string.split(\",\")\n",
    "    # print(artists_ids_list)\n",
    "    artists_ids_list = list(dict.fromkeys(artists_ids_list))\n",
    "\n",
    "    # artists_ids_list = \"61ydMyohF67xBZmWSPA3YQ,5mPbBOU2KMFfStepNZ027p,5Xn0cJrrcslCWCzPXNTy54,4bPYvyUn1mWwUwIW57oST2,6zUWZmyi5MLOEynQ5wCI5f,1Tdy7LZnrufTyuEbgDi1D8,61ydMyohF67xBZmWSPA3YQ,5mPbBOU2KMFfStepNZ027p,5Xn0cJrrcslCWCzPXNTy54,4bPYvyUn1mWwUwIW57oST2,6zUWZmyi5MLOEynQ5wCI5f,1Tdy7LZnrufTyuEbgDi1D8,61ydMyohF67xBZmWSPA3YQ,5mPbBOU2KMFfStepNZ027p,5Xn0cJrrcslCWCzPXNTy54,61ydMyohF67xBZmWSPA3YQ, 5mPbBOU2KMFfStepNZ027p,5Xn0cJrrcslCWCzPXNTy54,4bPYvyUn1mWwUwIW57oST2,6zUWZmyi5MLOEynQ5wCI5f,1Tdy7LZnrufTyuEbgDi1D8,61ydMyohF67xBZmWSPA3YQ,5mPbBOU2KMFfStepNZ027p,5Xn0cJrrcslCWCzPXNTy54,4bPYvyUn1mWwUwIW57oST2,6zUWZmyi5MLOEynQ5wCI5f,1Tdy7LZnrufTyuEbgDi1D8,61ydMyohF67xBZmWSPA3YQ,5mPbBOU2KMFfStepNZ027p,5Xn0cJrrcslCWCzPXNTy54\"\n",
    "    for i in range(0, len(artists_ids_list), 50 ):\n",
    "        chunk = artists_ids_list[i:i + 50]  # 50 artistes\n",
    "        # print(','.join(chunk), \"\\n\")\n",
    "        response = requests.get(\n",
    "            url = \"https://api.spotify.com/v1/artists?ids=\" +','.join(chunk),\n",
    "            headers = {\n",
    "                \"Authorization\": 'Bearer ' + AccessToken['access_token']\n",
    "            }\n",
    "        )\n",
    "        # print(response.json())\n",
    "        # requête réussie\n",
    "        if response.status_code == 200:\n",
    "            json_to_csv(response.json(), dst_file)\n",
    "        # erreur requete\n",
    "        else:\n",
    "            print(f\"Erreur lors de la requête pour le lot {i // 50 + 1}: {response.status_code}\")\n",
    "\n",
    "    #return artists_ids_list, artists_ids_list\n",
    "get_artists_info(AccessToken, \"data/Africa.csv\", \"data/artists/artists_africa.csv\")\n",
    "get_artists_info(AccessToken, \"data/Asia.csv\", \"data/artists/artists_asia.csv\")\n",
    "get_artists_info(AccessToken, \"data/Central_america.csv\", \"data/artists/artists_central_america.csv\")\n",
    "get_artists_info(AccessToken, \"data/South_America.csv\", \"data/artists/artists_south_america.csv\")\n",
    "get_artists_info(AccessToken, \"data/North_America.csv\", \"data/artists/artists_north_america.csv\")\n",
    "get_artists_info(AccessToken, \"data/Europe.csv\", \"data/artists/artists_europe.csv\")\n",
    "get_artists_info(AccessToken, \"data/Oceania.csv\", \"data/artists/artists_oceania.csv\")\n",
    "\n",
    "  \n"
   ]
  }
 ],
 "metadata": {
  "kernelspec": {
   "display_name": "myenv",
   "language": "python",
   "name": "python3"
  },
  "language_info": {
   "codemirror_mode": {
    "name": "ipython",
    "version": 3
   },
   "file_extension": ".py",
   "mimetype": "text/x-python",
   "name": "python",
   "nbconvert_exporter": "python",
   "pygments_lexer": "ipython3",
   "version": "3.9.2"
  },
  "orig_nbformat": 4
 },
 "nbformat": 4,
 "nbformat_minor": 2
}
