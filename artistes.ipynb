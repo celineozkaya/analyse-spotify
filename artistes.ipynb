{
 "cells": [
  {
   "cell_type": "markdown",
   "metadata": {},
   "source": [
    "# Projet IC05 – Collecte et traitement des données des artistes issus des Top50"
   ]
  },
  {
   "cell_type": "markdown",
   "metadata": {},
   "source": [
    "## Imports et tokens"
   ]
  },
  {
   "cell_type": "code",
   "execution_count": 11,
   "metadata": {},
   "outputs": [],
   "source": [
    "import requests\n",
    "import csv\n",
    "import pandas as pd\n",
    "from credentials import ClientSecretCO as client_id, ClientIDCO as client_secret # TODO -  reparer ce import  \n",
    "\n",
    "def get_acces_token(client_id, client_secret):\n",
    "    \"\"\"retourne un json (dict)\"\"\"\n",
    "    url = \"https://accounts.spotify.com/api/token\"\n",
    "    headers = {\n",
    "        \"Content-Type\": \"application/x-www-form-urlencoded\"\n",
    "    }\n",
    "    data = {\n",
    "        \"grant_type\": \"client_credentials\",\n",
    "        \"client_id\": f\"{client_id}\",\n",
    "        f\"client_secret\": f\"{client_secret}\"\n",
    "    }\n",
    "\n",
    "    response = requests.post(url, headers=headers, data=data)\n",
    "\n",
    "    return response.json()\n",
    "\n",
    "# recupérer un acces token\n",
    "AccessToken = get_acces_token(ClientIDCO, ClientSecretCO)\n",
    "# print(AccessToken['access_token'])\n"
   ]
  },
  {
   "cell_type": "markdown",
   "metadata": {},
   "source": [
    "## Collecte des données sur les artistes"
   ]
  },
  {
   "cell_type": "markdown",
   "metadata": {},
   "source": [
    "### Correspondance entre les artistes et les pays dans lesquels ils apparaissent"
   ]
  },
  {
   "cell_type": "code",
   "execution_count": 12,
   "metadata": {},
   "outputs": [],
   "source": [
    "# correspondance entre artists_id et country\n",
    "def extract_artist_country_mapping(src_file):\n",
    "    artist_country_mapping = {}\n",
    "    with open(src_file, 'r', encoding='utf-8') as csvfile:\n",
    "        reader = csv.reader(csvfile)\n",
    "        next(reader)  # ignorer l'en-tête\n",
    "        for row in reader:\n",
    "            artist_ids = row[2].strip('\"[]').replace(\" \", \"\").split(\",\")\n",
    "            country = row[-1]  # colonne \"country\"\n",
    "            for artist_id in artist_ids:\n",
    "                artist_country_mapping[artist_id] = country\n",
    "    return artist_country_mapping"
   ]
  },
  {
   "cell_type": "markdown",
   "metadata": {},
   "source": [
    "### Formatage des données JSON pour l'écriture dans un fichier CSV et écriture"
   ]
  },
  {
   "cell_type": "code",
   "execution_count": 15,
   "metadata": {},
   "outputs": [],
   "source": [
    "# ecriture des données json dans un csv\n",
    "def json_to_csv(json_data, output_filename, artists_countries):\n",
    "    # Préparer le fichier CSV\n",
    "    with open(output_filename, mode='a+', newline='', encoding='utf-8') as file:\n",
    "        writer = csv.DictWriter(file, fieldnames=[\"artists\", \"followers\", \"genres\", \"name\", \"popularity\", \"country\"])\n",
    "        if file.tell() == 0:  # ecrire l'en-tête uniquement si le fichier est vide\n",
    "            writer.writeheader()\n",
    "\n",
    "        # Traiter chaque artiste dans la liste\n",
    "        for artist in json_data[\"artists\"]:\n",
    "            # Extraire l'ID à partir de l'URL Spotify\n",
    "            full_url = artist.get(\"external_urls\", {}).get(\"spotify\", \"\")\n",
    "            artist_id = full_url.split(\"/\")[-1] if full_url else \"\"\n",
    "\n",
    "            # Préparer les informations pertinentes pour chaque artiste\n",
    "            row = {\n",
    "                \"artists\": artist_id,\n",
    "                \"followers\": artist.get(\"followers\", {}).get(\"total\", 0),\n",
    "                \"genres\": \", \".join(artist.get(\"genres\", [])),\n",
    "                \"name\": artist.get(\"name\", \"\"),\n",
    "                \"popularity\": artist.get(\"popularity\", 0),\n",
    "                \"country\": artists_countries[artist_id].pop()\n",
    "            }\n",
    "            writer.writerow(row)"
   ]
  },
  {
   "cell_type": "markdown",
   "metadata": {},
   "source": [
    "### Collecter les données des artistes (artists,followers,genres,name,popularity,country)"
   ]
  },
  {
   "cell_type": "code",
   "execution_count": 17,
   "metadata": {},
   "outputs": [],
   "source": [
    "# !!!!! ajouter le pays dans la collecte !!!!!!\n",
    "# retrieve artists info (name, genres,popularity, followers)\n",
    "def get_artists_info(AccessToken, src_file, dst_file) :\n",
    "    artists_countries = {}\n",
    "    # dictionnaire qui garde pour quel pays on note tel ou tel artiste\n",
    "\n",
    "    artists_ids_string = \"\"\n",
    "    artists_ids_list = \"\"\n",
    "    result =[]\n",
    "\n",
    "    # lecture du fichier CSV et recup les artistes_id\n",
    "    with open(src_file, 'r', encoding='utf-8') as csvfile:\n",
    "        reader = csv.reader(csvfile)\n",
    "        first_row = next(reader)\n",
    "        for row in reader:\n",
    "            # print(row[2]) # col artistes\n",
    "            if \",\" in row[2] :\n",
    "                # print(row[2].strip('\"[]').replace(\" \", \"\"))\n",
    "                artist_id_str = row[2].strip('\"[]').replace(\" \", \"\") # string id1,id2,id3...etc\n",
    "                artists_ids_string += artist_id_str\n",
    "                \n",
    "                for artist_id in artist_id_str.split(\",\") :  \n",
    "                # pour ajouter dans le dictionnaire tout les artistes\n",
    "                    if artist_id not in artists_countries.keys():\n",
    "                        artists_countries[artist_id] = []\n",
    "                    artists_countries[artist_id].append(row[-1])\n",
    "            else :\n",
    "                # print(row[2][1:23])\n",
    "                artist_id_str = row[2][1:23]\n",
    "                artists_ids_string += artist_id_str\n",
    "                if artist_id_str not in artists_countries.keys():\n",
    "                    artists_countries[artist_id_str] = []\n",
    "                artists_countries[artist_id_str].append(row[-1])\n",
    "\n",
    "            artists_ids_string +=\",\"\n",
    "            \n",
    "    # print(artists_ids_string)\n",
    "    artists_ids_list = artists_ids_string.split(\",\")[:-1]\n",
    "\n",
    "    \n",
    "    for i in range(0, len(artists_ids_list), 50 ):\n",
    "        chunk = artists_ids_list[i:i + 50]  # 50 artistes\n",
    "        # print(','.join(chunk), \"\\n\")\n",
    "        response = requests.get(\n",
    "            url = \"https://api.spotify.com/v1/artists?ids=\" +','.join(chunk),\n",
    "            headers = {\n",
    "                \"Authorization\": 'Bearer ' + AccessToken['access_token']\n",
    "            }\n",
    "        )\n",
    "        # print(response.json())\n",
    "        # requête réussie\n",
    "        if response.status_code == 200:\n",
    "            json_to_csv(response.json(), dst_file, artists_countries)\n",
    "        # erreur requete\n",
    "        else:\n",
    "            print(f\"Erreur lors de la requête pour le lot {i // 50 + 1}: {response.status_code}\")\n",
    "\n",
    "    #return artists_ids_list, artists_ids_list\n",
    "get_artists_info(AccessToken, \"data/continent_features/Africa.csv\", \"data/artists/artists_africa.csv\")\n",
    "get_artists_info(AccessToken, \"data/continent_features/Asia.csv\", \"data/artists/artists_asia.csv\")\n",
    "get_artists_info(AccessToken, \"data/continent_features/Central_America.csv\", \"data/artists/artists_central_america.csv\")\n",
    "get_artists_info(AccessToken, \"data/continent_features/South_America.csv\", \"data/artists/artists_south_america.csv\")\n",
    "get_artists_info(AccessToken, \"data/continent_features/North_America.csv\", \"./data/artists/artists_north_america.csv\")\n",
    "get_artists_info(AccessToken, \"data/continent_features/Europe.csv\", \"data/artists/artists_europe.csv\")\n",
    "get_artists_info(AccessToken, \"data/continent_features/Oceania.csv\", \"data/artists/artists_oceania.csv\")\n",
    "get_artists_info(AccessToken, \"data/top50_features_avec_USA.csv\", \"data/artists/artists.csv\")"
   ]
  },
  {
   "cell_type": "markdown",
   "metadata": {},
   "source": [
    "### Suppression des lignes en double dans les fichiers de donnéees des artistes"
   ]
  },
  {
   "cell_type": "code",
   "execution_count": 18,
   "metadata": {},
   "outputs": [],
   "source": [
    "def delete_duplicate(file) :\n",
    "    df = pd.read_csv(file)\n",
    "    df_sans_doublons = df.drop_duplicates()\n",
    "    df_sans_doublons.to_csv(file, index=False)\n",
    "\n",
    "# delete_duplicate(\"data/artists/test-usa.csv\")\n",
    "# delete_duplicate(\"data/artists/artists_europe.csv\")\n",
    "# delete_duplicate(\"data/artists/artists_oceania.csv\")\n",
    "# delete_duplicate(\"data/artists/artists_north_america.csv\")\n",
    "# delete_duplicate(\"data/artists/artists_south_america.csv\")\n",
    "# delete_duplicate(\"data/artists/artists_central_america.csv\")\n",
    "# delete_duplicate(\"data/artists/artists_asia.csv\")\n",
    "# delete_duplicate(\"data/artists/artists_africa.csv\")"
   ]
  },
  {
   "cell_type": "markdown",
   "metadata": {},
   "source": [
    "### Compter le nombre d'apparition des artistes dans chaque pays"
   ]
  },
  {
   "cell_type": "code",
   "execution_count": 22,
   "metadata": {},
   "outputs": [
    {
     "name": "stdout",
     "output_type": "stream",
     "text": [
      "13\n",
      "1\n"
     ]
    }
   ],
   "source": [
    "def artist_occurence_per_country(src_file, artist_id, country) :\n",
    "    count = 0\n",
    "    with open(src_file, 'r', encoding='utf-8') as file:\n",
    "        reader = csv.reader(file)\n",
    "        header = next(reader)  # Passer l'en-tête\n",
    "        \n",
    "        for row in reader:\n",
    "            # Vérifier si la ligne contient le pays et l'ID de l'artiste\n",
    "            if country in row and artist_id in row[2]:  # Supposons que la colonne des artistes est en index 2\n",
    "                count += row[2].count(artist_id)\n",
    "    \n",
    "    return count\n",
    "\n",
    "occurrencesUSA = artist_occurence_per_country(\"data/continent_features/North_America.csv\", \"2YZyLoL8N0Wb9xBt1NhZWg\", \"United States\")\n",
    "occurrencesCanada = artist_occurence_per_country(\"data/continent_features/North_America.csv\", \"2YZyLoL8N0Wb9xBt1NhZWg\", \"Canada\")\n",
    "print(occurrencesUSA)\n",
    "print(occurrencesCanada)"
   ]
  },
  {
   "cell_type": "markdown",
   "metadata": {},
   "source": [
    "### Collecte de tous les artistes liés\n"
   ]
  },
  {
   "cell_type": "code",
   "execution_count": null,
   "metadata": {},
   "outputs": [],
   "source": []
  },
  {
   "cell_type": "markdown",
   "metadata": {},
   "source": [
    "### Suppression des artistes liés hors Top50"
   ]
  }
 ],
 "metadata": {
  "kernelspec": {
   "display_name": "myenv",
   "language": "python",
   "name": "python3"
  },
  "language_info": {
   "codemirror_mode": {
    "name": "ipython",
    "version": 3
   },
   "file_extension": ".py",
   "mimetype": "text/x-python",
   "name": "python",
   "nbconvert_exporter": "python",
   "pygments_lexer": "ipython3",
   "version": "3.9.2"
  },
  "orig_nbformat": 4
 },
 "nbformat": 4,
 "nbformat_minor": 2
}
