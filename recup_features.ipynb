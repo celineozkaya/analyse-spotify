{
 "cells": [
  {
   "cell_type": "code",
   "execution_count": 2,
   "id": "initial_id",
   "metadata": {
    "collapsed": true,
    "ExecuteTime": {
     "end_time": "2024-11-11T12:34:02.805349Z",
     "start_time": "2024-11-11T12:34:02.690956Z"
    }
   },
   "outputs": [],
   "source": [
    "import pandas as pd\n",
    "import requests\n",
    "client_secret = \"0ffcb78d32ea42d5bb37456f919f4809\"\n",
    "client_id = \"0b3bd3d84e824a68a53325cb16e8eb57\"\n",
    "\n",
    "def get_acces_token(client_id, client_secret):\n",
    "    \"\"\"retourne un json (dict)\"\"\"\n",
    "    url = \"https://accounts.spotify.com/api/token\"\n",
    "    headers = {\n",
    "        \"Content-Type\": \"application/x-www-form-urlencoded\"\n",
    "    }\n",
    "    data = {\n",
    "        \"grant_type\": \"client_credentials\",\n",
    "        \"client_id\": f\"{client_id}\",\n",
    "        f\"client_secret\": f\"{client_secret}\"\n",
    "    }\n",
    "\n",
    "    response = requests.post(url, headers=headers, data=data)\n",
    "\n",
    "    return response.json()\n",
    "\n",
    "accessToken = get_acces_token(client_id, client_secret)[\"access_token\"]\n",
    "\n",
    "def get_playlist(accessToken, playlist_id):\n",
    "    playlist = requests.get(\n",
    "        url=\"https://api.spotify.com/v1/playlists/\" + playlist_id,\n",
    "        headers={\n",
    "            \"Authorization\": 'Bearer ' + accessToken\n",
    "        }\n",
    "    )\n",
    "    return playlist.json() \n",
    "\n",
    "def get_several_tracks_features(accessToken, songs_id : list) -> list:\n",
    "    \"\"\"maximum 100 ids\"\"\"\n",
    "    if (len(songs_id) > 100):\n",
    "        raise ValueError(\"Too Many Songs\")\n",
    "    songs_id_string = \",\".join(songs_id)\n",
    "    songs_features = requests.get(\n",
    "        url=\"https://api.spotify.com/v1/audio-features?ids=\" + songs_id_string,\n",
    "        headers={\n",
    "            \"Authorization\": 'Bearer ' + accessToken\n",
    "        }\n",
    "    )\n",
    "    return songs_features.json()\n",
    "\n",
    "def get_playlist_tracks_features(accessToken, playlist, country): \n",
    "    \"\"\"params: spotify playlist json object, returns a pandas dataframe\"\"\"\n",
    "    songs_id = []\n",
    "    songs_titles = []\n",
    "    songs_artists = []\n",
    "    for track in playlist[\"tracks\"][\"items\"]:\n",
    "        info = track[\"track\"]\n",
    "        songs_titles.append(info[\"name\"])\n",
    "        songs_artists.append([artist[\"id\"] for artist in info[\"artists\"]])\n",
    "        songs_id.append(info[\"id\"])\n",
    "    songs_features_raw = get_several_tracks_features(accessToken, songs_id)\n",
    "    songs_features = songs_features_raw[\"audio_features\"]\n",
    "    #danceabilities = [song[\"danceability\"] for song in songs_features]\n",
    "\n",
    "    if len(songs_features) != len(songs_id):\n",
    "        print(\"Not all songs have been succesfully analysed, aborted\")\n",
    "\n",
    "    else :\n",
    "        temp = pd.DataFrame({\"title\" : songs_titles, \"artists_id\": songs_artists})\n",
    "        songs_df = pd.DataFrame(songs_features)\n",
    "        songs_df = pd.concat([temp, songs_df], axis = 1)\n",
    "        songs_df[\"country\"] = country\n",
    "        return songs_df\n",
    "\n",
    "def get_top50_features(playlists_df, accessToken):\n",
    "    features_df = pd.DataFrame()\n",
    "    for ind in playlists_df.index:\n",
    "        playlist_id = playlists_df[\"playlist_id\"][ind]\n",
    "        country = playlists_df[\"target_country\"][ind]\n",
    "        playlist = get_playlist(accessToken, playlist_id)\n",
    "        new_playlist_df = get_playlist_tracks_features(accessToken, playlist, country)\n",
    "        features_df = pd.concat([features_df, new_playlist_df], axis=0)\n",
    "    return features_df\n"
   ]
  },
  {
   "cell_type": "markdown",
   "source": [
    "Date d'extraction : 11/11/2024"
   ],
   "metadata": {
    "collapsed": false
   },
   "id": "acd75f5ed1c2f307"
  },
  {
   "cell_type": "code",
   "outputs": [
    {
     "data": {
      "text/plain": "                                                title  \\\n0                                                  IA   \n1                       Q U E V A S H A C E R H O Y ?   \n2                                              DIABLA   \n3                     DEGENERE 👑 (feat. benny blanco)   \n4                            Me has invitado a bailar   \n..                                                ...   \n45                                         shhhhhhh..   \n46                                       Simp Gái 808   \n47                       Say Yes (Vietnamese Version)   \n48  REGRET (feat. Quân A.P, Pháp Kiều, Quang Trung...   \n49                                            Từng Là   \n\n                                           artists_id  danceability  energy  \\\n0                            [78F6Xkd46aMHkr4AP60TXY]         0.706   0.631   \n1    [3E12tRURRvPfHz0hAMCFYc, 54seKvtsZauR1iauN0ptpo]         0.560   0.681   \n2                            [30Ml7nTMkXYyb0UoLwtmCc]         0.543   0.587   \n3    [7iK8PXO48WeuP03g8YR51W, 5CiGnKThu5ctn9pBxv7DGa]         0.744   0.709   \n4                            [0CVOcYvRcSvOXyuR4YGKaC]         0.665   0.544   \n..                                                ...           ...     ...   \n45   [30eFAXoU2kTjJPf2cq80B8, 3diftVOq7aEIebXKkC34oR]         0.739   0.537   \n46                           [6TITnFVRcl0AcZ4syE7Toe]         0.778   0.514   \n47  [61ydMyohF67xBZmWSPA3YQ, 5mPbBOU2KMFfStepNZ027...         0.679   0.747   \n48  [4wZ6awunqaaVLl5j0WpDFu, 2NRcG7E1j2sSi8vnUzCcp...         0.548   0.636   \n49                           [7yquVKfxBuNFJbG9cy2R8A]         0.808   0.414   \n\n    key  loudness  mode  speechiness  acousticness  instrumentalness  ...  \\\n0     0    -5.812     0       0.0366        0.6560          0.000000  ...   \n1     6    -6.304     0       0.2440        0.1030          0.000000  ...   \n2    10    -7.709     0       0.4970        0.7860          0.000000  ...   \n3     6    -5.778     0       0.2840        0.0501          0.000000  ...   \n4    10    -3.648     1       0.1150        0.0129          0.000000  ...   \n..  ...       ...   ...          ...           ...               ...  ...   \n45    2    -7.241     0       0.0394        0.2510          0.000000  ...   \n46    8   -12.450     0       0.1970        0.3550          0.000535  ...   \n47    4    -6.917     1       0.0575        0.2860          0.000000  ...   \n48    8    -7.157     1       0.0551        0.1310          0.000000  ...   \n49    5   -10.950     1       0.0380        0.8640          0.000118  ...   \n\n    valence    tempo            type                      id  \\\n0     0.289  111.930  audio_features  7lcbpfihslisNObKdHjyLo   \n1     0.388  155.079  audio_features  0Sr7ssScx54yxdM2ols7nW   \n2     0.723  174.075  audio_features  00EWeXw1RLUwCMw8pxtXAE   \n3     0.712  194.055  audio_features  0qeIFEGRQqHoaJtLCl0U73   \n4     0.625  163.948  audio_features  3tMftGMXTPbQlmjh4FzXpZ   \n..      ...      ...             ...                     ...   \n45    0.379  137.970  audio_features  4jWmhzf53Q0ZvZMuGdiR9x   \n46    0.224   94.994  audio_features  5J3m0taZ0W1E9HTE0MwcSv   \n47    0.505  100.073  audio_features  7mbWwlHgukuuW8r7Nc3FHv   \n48    0.114  155.889  audio_features  3JIfmjJbanxJkwaPzYa2gN   \n49    0.609  115.041  audio_features  2xOhv7XudrBDtkID1jwsFE   \n\n                                     uri  \\\n0   spotify:track:7lcbpfihslisNObKdHjyLo   \n1   spotify:track:0Sr7ssScx54yxdM2ols7nW   \n2   spotify:track:00EWeXw1RLUwCMw8pxtXAE   \n3   spotify:track:0qeIFEGRQqHoaJtLCl0U73   \n4   spotify:track:3tMftGMXTPbQlmjh4FzXpZ   \n..                                   ...   \n45  spotify:track:4jWmhzf53Q0ZvZMuGdiR9x   \n46  spotify:track:5J3m0taZ0W1E9HTE0MwcSv   \n47  spotify:track:7mbWwlHgukuuW8r7Nc3FHv   \n48  spotify:track:3JIfmjJbanxJkwaPzYa2gN   \n49  spotify:track:2xOhv7XudrBDtkID1jwsFE   \n\n                                           track_href  \\\n0   https://api.spotify.com/v1/tracks/7lcbpfihslis...   \n1   https://api.spotify.com/v1/tracks/0Sr7ssScx54y...   \n2   https://api.spotify.com/v1/tracks/00EWeXw1RLUw...   \n3   https://api.spotify.com/v1/tracks/0qeIFEGRQqHo...   \n4   https://api.spotify.com/v1/tracks/3tMftGMXTPbQ...   \n..                                                ...   \n45  https://api.spotify.com/v1/tracks/4jWmhzf53Q0Z...   \n46  https://api.spotify.com/v1/tracks/5J3m0taZ0W1E...   \n47  https://api.spotify.com/v1/tracks/7mbWwlHgukuu...   \n48  https://api.spotify.com/v1/tracks/3JIfmjJbanxJ...   \n49  https://api.spotify.com/v1/tracks/2xOhv7XudrBD...   \n\n                                         analysis_url duration_ms  \\\n0   https://api.spotify.com/v1/audio-analysis/7lcb...      171429   \n1   https://api.spotify.com/v1/audio-analysis/0Sr7...      223320   \n2   https://api.spotify.com/v1/audio-analysis/00EW...      217946   \n3   https://api.spotify.com/v1/audio-analysis/0qeI...      130880   \n4   https://api.spotify.com/v1/audio-analysis/3tMf...      192906   \n..                                                ...         ...   \n45  https://api.spotify.com/v1/audio-analysis/4jWm...      230676   \n46  https://api.spotify.com/v1/audio-analysis/5J3m...      161948   \n47  https://api.spotify.com/v1/audio-analysis/7mbW...      223200   \n48  https://api.spotify.com/v1/audio-analysis/3JIf...      252308   \n49  https://api.spotify.com/v1/audio-analysis/2xOh...      252500   \n\n    time_signature  country  \n0                4  Andorra  \n1                4  Andorra  \n2                4  Andorra  \n3                4  Andorra  \n4                4  Andorra  \n..             ...      ...  \n45               4  Vietnam  \n46               4  Vietnam  \n47               4  Vietnam  \n48               4  Vietnam  \n49               4  Vietnam  \n\n[3400 rows x 21 columns]",
      "text/html": "<div>\n<style scoped>\n    .dataframe tbody tr th:only-of-type {\n        vertical-align: middle;\n    }\n\n    .dataframe tbody tr th {\n        vertical-align: top;\n    }\n\n    .dataframe thead th {\n        text-align: right;\n    }\n</style>\n<table border=\"1\" class=\"dataframe\">\n  <thead>\n    <tr style=\"text-align: right;\">\n      <th></th>\n      <th>title</th>\n      <th>artists_id</th>\n      <th>danceability</th>\n      <th>energy</th>\n      <th>key</th>\n      <th>loudness</th>\n      <th>mode</th>\n      <th>speechiness</th>\n      <th>acousticness</th>\n      <th>instrumentalness</th>\n      <th>...</th>\n      <th>valence</th>\n      <th>tempo</th>\n      <th>type</th>\n      <th>id</th>\n      <th>uri</th>\n      <th>track_href</th>\n      <th>analysis_url</th>\n      <th>duration_ms</th>\n      <th>time_signature</th>\n      <th>country</th>\n    </tr>\n  </thead>\n  <tbody>\n    <tr>\n      <th>0</th>\n      <td>IA</td>\n      <td>[78F6Xkd46aMHkr4AP60TXY]</td>\n      <td>0.706</td>\n      <td>0.631</td>\n      <td>0</td>\n      <td>-5.812</td>\n      <td>0</td>\n      <td>0.0366</td>\n      <td>0.6560</td>\n      <td>0.000000</td>\n      <td>...</td>\n      <td>0.289</td>\n      <td>111.930</td>\n      <td>audio_features</td>\n      <td>7lcbpfihslisNObKdHjyLo</td>\n      <td>spotify:track:7lcbpfihslisNObKdHjyLo</td>\n      <td>https://api.spotify.com/v1/tracks/7lcbpfihslis...</td>\n      <td>https://api.spotify.com/v1/audio-analysis/7lcb...</td>\n      <td>171429</td>\n      <td>4</td>\n      <td>Andorra</td>\n    </tr>\n    <tr>\n      <th>1</th>\n      <td>Q U E V A S H A C E R H O Y ?</td>\n      <td>[3E12tRURRvPfHz0hAMCFYc, 54seKvtsZauR1iauN0ptpo]</td>\n      <td>0.560</td>\n      <td>0.681</td>\n      <td>6</td>\n      <td>-6.304</td>\n      <td>0</td>\n      <td>0.2440</td>\n      <td>0.1030</td>\n      <td>0.000000</td>\n      <td>...</td>\n      <td>0.388</td>\n      <td>155.079</td>\n      <td>audio_features</td>\n      <td>0Sr7ssScx54yxdM2ols7nW</td>\n      <td>spotify:track:0Sr7ssScx54yxdM2ols7nW</td>\n      <td>https://api.spotify.com/v1/tracks/0Sr7ssScx54y...</td>\n      <td>https://api.spotify.com/v1/audio-analysis/0Sr7...</td>\n      <td>223320</td>\n      <td>4</td>\n      <td>Andorra</td>\n    </tr>\n    <tr>\n      <th>2</th>\n      <td>DIABLA</td>\n      <td>[30Ml7nTMkXYyb0UoLwtmCc]</td>\n      <td>0.543</td>\n      <td>0.587</td>\n      <td>10</td>\n      <td>-7.709</td>\n      <td>0</td>\n      <td>0.4970</td>\n      <td>0.7860</td>\n      <td>0.000000</td>\n      <td>...</td>\n      <td>0.723</td>\n      <td>174.075</td>\n      <td>audio_features</td>\n      <td>00EWeXw1RLUwCMw8pxtXAE</td>\n      <td>spotify:track:00EWeXw1RLUwCMw8pxtXAE</td>\n      <td>https://api.spotify.com/v1/tracks/00EWeXw1RLUw...</td>\n      <td>https://api.spotify.com/v1/audio-analysis/00EW...</td>\n      <td>217946</td>\n      <td>4</td>\n      <td>Andorra</td>\n    </tr>\n    <tr>\n      <th>3</th>\n      <td>DEGENERE 👑 (feat. benny blanco)</td>\n      <td>[7iK8PXO48WeuP03g8YR51W, 5CiGnKThu5ctn9pBxv7DGa]</td>\n      <td>0.744</td>\n      <td>0.709</td>\n      <td>6</td>\n      <td>-5.778</td>\n      <td>0</td>\n      <td>0.2840</td>\n      <td>0.0501</td>\n      <td>0.000000</td>\n      <td>...</td>\n      <td>0.712</td>\n      <td>194.055</td>\n      <td>audio_features</td>\n      <td>0qeIFEGRQqHoaJtLCl0U73</td>\n      <td>spotify:track:0qeIFEGRQqHoaJtLCl0U73</td>\n      <td>https://api.spotify.com/v1/tracks/0qeIFEGRQqHo...</td>\n      <td>https://api.spotify.com/v1/audio-analysis/0qeI...</td>\n      <td>130880</td>\n      <td>4</td>\n      <td>Andorra</td>\n    </tr>\n    <tr>\n      <th>4</th>\n      <td>Me has invitado a bailar</td>\n      <td>[0CVOcYvRcSvOXyuR4YGKaC]</td>\n      <td>0.665</td>\n      <td>0.544</td>\n      <td>10</td>\n      <td>-3.648</td>\n      <td>1</td>\n      <td>0.1150</td>\n      <td>0.0129</td>\n      <td>0.000000</td>\n      <td>...</td>\n      <td>0.625</td>\n      <td>163.948</td>\n      <td>audio_features</td>\n      <td>3tMftGMXTPbQlmjh4FzXpZ</td>\n      <td>spotify:track:3tMftGMXTPbQlmjh4FzXpZ</td>\n      <td>https://api.spotify.com/v1/tracks/3tMftGMXTPbQ...</td>\n      <td>https://api.spotify.com/v1/audio-analysis/3tMf...</td>\n      <td>192906</td>\n      <td>4</td>\n      <td>Andorra</td>\n    </tr>\n    <tr>\n      <th>...</th>\n      <td>...</td>\n      <td>...</td>\n      <td>...</td>\n      <td>...</td>\n      <td>...</td>\n      <td>...</td>\n      <td>...</td>\n      <td>...</td>\n      <td>...</td>\n      <td>...</td>\n      <td>...</td>\n      <td>...</td>\n      <td>...</td>\n      <td>...</td>\n      <td>...</td>\n      <td>...</td>\n      <td>...</td>\n      <td>...</td>\n      <td>...</td>\n      <td>...</td>\n      <td>...</td>\n    </tr>\n    <tr>\n      <th>45</th>\n      <td>shhhhhhh..</td>\n      <td>[30eFAXoU2kTjJPf2cq80B8, 3diftVOq7aEIebXKkC34oR]</td>\n      <td>0.739</td>\n      <td>0.537</td>\n      <td>2</td>\n      <td>-7.241</td>\n      <td>0</td>\n      <td>0.0394</td>\n      <td>0.2510</td>\n      <td>0.000000</td>\n      <td>...</td>\n      <td>0.379</td>\n      <td>137.970</td>\n      <td>audio_features</td>\n      <td>4jWmhzf53Q0ZvZMuGdiR9x</td>\n      <td>spotify:track:4jWmhzf53Q0ZvZMuGdiR9x</td>\n      <td>https://api.spotify.com/v1/tracks/4jWmhzf53Q0Z...</td>\n      <td>https://api.spotify.com/v1/audio-analysis/4jWm...</td>\n      <td>230676</td>\n      <td>4</td>\n      <td>Vietnam</td>\n    </tr>\n    <tr>\n      <th>46</th>\n      <td>Simp Gái 808</td>\n      <td>[6TITnFVRcl0AcZ4syE7Toe]</td>\n      <td>0.778</td>\n      <td>0.514</td>\n      <td>8</td>\n      <td>-12.450</td>\n      <td>0</td>\n      <td>0.1970</td>\n      <td>0.3550</td>\n      <td>0.000535</td>\n      <td>...</td>\n      <td>0.224</td>\n      <td>94.994</td>\n      <td>audio_features</td>\n      <td>5J3m0taZ0W1E9HTE0MwcSv</td>\n      <td>spotify:track:5J3m0taZ0W1E9HTE0MwcSv</td>\n      <td>https://api.spotify.com/v1/tracks/5J3m0taZ0W1E...</td>\n      <td>https://api.spotify.com/v1/audio-analysis/5J3m...</td>\n      <td>161948</td>\n      <td>4</td>\n      <td>Vietnam</td>\n    </tr>\n    <tr>\n      <th>47</th>\n      <td>Say Yes (Vietnamese Version)</td>\n      <td>[61ydMyohF67xBZmWSPA3YQ, 5mPbBOU2KMFfStepNZ027...</td>\n      <td>0.679</td>\n      <td>0.747</td>\n      <td>4</td>\n      <td>-6.917</td>\n      <td>1</td>\n      <td>0.0575</td>\n      <td>0.2860</td>\n      <td>0.000000</td>\n      <td>...</td>\n      <td>0.505</td>\n      <td>100.073</td>\n      <td>audio_features</td>\n      <td>7mbWwlHgukuuW8r7Nc3FHv</td>\n      <td>spotify:track:7mbWwlHgukuuW8r7Nc3FHv</td>\n      <td>https://api.spotify.com/v1/tracks/7mbWwlHgukuu...</td>\n      <td>https://api.spotify.com/v1/audio-analysis/7mbW...</td>\n      <td>223200</td>\n      <td>4</td>\n      <td>Vietnam</td>\n    </tr>\n    <tr>\n      <th>48</th>\n      <td>REGRET (feat. Quân A.P, Pháp Kiều, Quang Trung...</td>\n      <td>[4wZ6awunqaaVLl5j0WpDFu, 2NRcG7E1j2sSi8vnUzCcp...</td>\n      <td>0.548</td>\n      <td>0.636</td>\n      <td>8</td>\n      <td>-7.157</td>\n      <td>1</td>\n      <td>0.0551</td>\n      <td>0.1310</td>\n      <td>0.000000</td>\n      <td>...</td>\n      <td>0.114</td>\n      <td>155.889</td>\n      <td>audio_features</td>\n      <td>3JIfmjJbanxJkwaPzYa2gN</td>\n      <td>spotify:track:3JIfmjJbanxJkwaPzYa2gN</td>\n      <td>https://api.spotify.com/v1/tracks/3JIfmjJbanxJ...</td>\n      <td>https://api.spotify.com/v1/audio-analysis/3JIf...</td>\n      <td>252308</td>\n      <td>4</td>\n      <td>Vietnam</td>\n    </tr>\n    <tr>\n      <th>49</th>\n      <td>Từng Là</td>\n      <td>[7yquVKfxBuNFJbG9cy2R8A]</td>\n      <td>0.808</td>\n      <td>0.414</td>\n      <td>5</td>\n      <td>-10.950</td>\n      <td>1</td>\n      <td>0.0380</td>\n      <td>0.8640</td>\n      <td>0.000118</td>\n      <td>...</td>\n      <td>0.609</td>\n      <td>115.041</td>\n      <td>audio_features</td>\n      <td>2xOhv7XudrBDtkID1jwsFE</td>\n      <td>spotify:track:2xOhv7XudrBDtkID1jwsFE</td>\n      <td>https://api.spotify.com/v1/tracks/2xOhv7XudrBD...</td>\n      <td>https://api.spotify.com/v1/audio-analysis/2xOh...</td>\n      <td>252500</td>\n      <td>4</td>\n      <td>Vietnam</td>\n    </tr>\n  </tbody>\n</table>\n<p>3400 rows × 21 columns</p>\n</div>"
     },
     "execution_count": 9,
     "metadata": {},
     "output_type": "execute_result"
    }
   ],
   "source": [
    "playlist_df = pd.read_csv(\"./data/cleaned_top50_playlists_data.csv\")\n",
    "features_df = get_top50_features(playlist_df, accessToken)\n",
    "\n",
    "features_df"
   ],
   "metadata": {
    "collapsed": false,
    "ExecuteTime": {
     "end_time": "2024-11-11T12:37:47.346288Z",
     "start_time": "2024-11-11T12:37:07.425827Z"
    }
   },
   "id": "1f7e2c67efb26c0a",
   "execution_count": 9
  },
  {
   "cell_type": "code",
   "outputs": [],
   "source": [],
   "metadata": {
    "collapsed": false
   },
   "id": "a0f05b22e866a28e"
  }
 ],
 "metadata": {
  "kernelspec": {
   "display_name": "Python 3",
   "language": "python",
   "name": "python3"
  },
  "language_info": {
   "codemirror_mode": {
    "name": "ipython",
    "version": 2
   },
   "file_extension": ".py",
   "mimetype": "text/x-python",
   "name": "python",
   "nbconvert_exporter": "python",
   "pygments_lexer": "ipython2",
   "version": "2.7.6"
  }
 },
 "nbformat": 4,
 "nbformat_minor": 5
}
